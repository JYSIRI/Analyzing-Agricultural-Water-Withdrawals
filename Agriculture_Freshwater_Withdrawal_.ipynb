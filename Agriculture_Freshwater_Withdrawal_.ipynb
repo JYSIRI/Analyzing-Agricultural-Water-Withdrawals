{
  "cells": [
    {
      "cell_type": "markdown",
      "metadata": {
        "id": "view-in-github",
        "colab_type": "text"
      },
      "source": [
        "<a href=\"https://colab.research.google.com/github/JYSIRI/Analyzing-Agricultural-Water-Withdrawals/blob/main/Agriculture_Freshwater_Withdrawal_.ipynb\" target=\"_parent\"><img src=\"https://colab.research.google.com/assets/colab-badge.svg\" alt=\"Open In Colab\"/></a>"
      ]
    },
    {
      "cell_type": "code",
      "execution_count": null,
      "id": "867932b8-9bae-4ab8-911f-80c1aade424a",
      "metadata": {
        "colab": {
          "base_uri": "https://localhost:8080/",
          "height": 426
        },
        "id": "867932b8-9bae-4ab8-911f-80c1aade424a",
        "outputId": "a5c3e6ca-36ec-4e42-d5c0-d15ec5b496b7"
      },
      "outputs": [
        {
          "output_type": "error",
          "ename": "OSError",
          "evalue": "'seaborn-darkgrid' is not a valid package style, path of style file, URL of style file, or library style name (library styles are listed in `style.available`)",
          "traceback": [
            "\u001b[0;31m---------------------------------------------------------------------------\u001b[0m",
            "\u001b[0;31mFileNotFoundError\u001b[0m                         Traceback (most recent call last)",
            "\u001b[0;32m/usr/local/lib/python3.11/dist-packages/matplotlib/style/core.py\u001b[0m in \u001b[0;36muse\u001b[0;34m(style)\u001b[0m\n\u001b[1;32m    128\u001b[0m             \u001b[0;32mtry\u001b[0m\u001b[0;34m:\u001b[0m\u001b[0;34m\u001b[0m\u001b[0;34m\u001b[0m\u001b[0m\n\u001b[0;32m--> 129\u001b[0;31m                 \u001b[0mstyle\u001b[0m \u001b[0;34m=\u001b[0m \u001b[0m_rc_params_in_file\u001b[0m\u001b[0;34m(\u001b[0m\u001b[0mstyle\u001b[0m\u001b[0;34m)\u001b[0m\u001b[0;34m\u001b[0m\u001b[0;34m\u001b[0m\u001b[0m\n\u001b[0m\u001b[1;32m    130\u001b[0m             \u001b[0;32mexcept\u001b[0m \u001b[0mOSError\u001b[0m \u001b[0;32mas\u001b[0m \u001b[0merr\u001b[0m\u001b[0;34m:\u001b[0m\u001b[0;34m\u001b[0m\u001b[0;34m\u001b[0m\u001b[0m\n",
            "\u001b[0;32m/usr/local/lib/python3.11/dist-packages/matplotlib/__init__.py\u001b[0m in \u001b[0;36m_rc_params_in_file\u001b[0;34m(fname, transform, fail_on_error)\u001b[0m\n\u001b[1;32m    902\u001b[0m     \u001b[0mrc_temp\u001b[0m \u001b[0;34m=\u001b[0m \u001b[0;34m{\u001b[0m\u001b[0;34m}\u001b[0m\u001b[0;34m\u001b[0m\u001b[0;34m\u001b[0m\u001b[0m\n\u001b[0;32m--> 903\u001b[0;31m     \u001b[0;32mwith\u001b[0m \u001b[0m_open_file_or_url\u001b[0m\u001b[0;34m(\u001b[0m\u001b[0mfname\u001b[0m\u001b[0;34m)\u001b[0m \u001b[0;32mas\u001b[0m \u001b[0mfd\u001b[0m\u001b[0;34m:\u001b[0m\u001b[0;34m\u001b[0m\u001b[0;34m\u001b[0m\u001b[0m\n\u001b[0m\u001b[1;32m    904\u001b[0m         \u001b[0;32mtry\u001b[0m\u001b[0;34m:\u001b[0m\u001b[0;34m\u001b[0m\u001b[0;34m\u001b[0m\u001b[0m\n",
            "\u001b[0;32m/usr/lib/python3.11/contextlib.py\u001b[0m in \u001b[0;36m__enter__\u001b[0;34m(self)\u001b[0m\n\u001b[1;32m    136\u001b[0m         \u001b[0;32mtry\u001b[0m\u001b[0;34m:\u001b[0m\u001b[0;34m\u001b[0m\u001b[0;34m\u001b[0m\u001b[0m\n\u001b[0;32m--> 137\u001b[0;31m             \u001b[0;32mreturn\u001b[0m \u001b[0mnext\u001b[0m\u001b[0;34m(\u001b[0m\u001b[0mself\u001b[0m\u001b[0;34m.\u001b[0m\u001b[0mgen\u001b[0m\u001b[0;34m)\u001b[0m\u001b[0;34m\u001b[0m\u001b[0;34m\u001b[0m\u001b[0m\n\u001b[0m\u001b[1;32m    138\u001b[0m         \u001b[0;32mexcept\u001b[0m \u001b[0mStopIteration\u001b[0m\u001b[0;34m:\u001b[0m\u001b[0;34m\u001b[0m\u001b[0;34m\u001b[0m\u001b[0m\n",
            "\u001b[0;32m/usr/local/lib/python3.11/dist-packages/matplotlib/__init__.py\u001b[0m in \u001b[0;36m_open_file_or_url\u001b[0;34m(fname)\u001b[0m\n\u001b[1;32m    879\u001b[0m         \u001b[0mfname\u001b[0m \u001b[0;34m=\u001b[0m \u001b[0mos\u001b[0m\u001b[0;34m.\u001b[0m\u001b[0mpath\u001b[0m\u001b[0;34m.\u001b[0m\u001b[0mexpanduser\u001b[0m\u001b[0;34m(\u001b[0m\u001b[0mfname\u001b[0m\u001b[0;34m)\u001b[0m\u001b[0;34m\u001b[0m\u001b[0;34m\u001b[0m\u001b[0m\n\u001b[0;32m--> 880\u001b[0;31m         \u001b[0;32mwith\u001b[0m \u001b[0mopen\u001b[0m\u001b[0;34m(\u001b[0m\u001b[0mfname\u001b[0m\u001b[0;34m,\u001b[0m \u001b[0mencoding\u001b[0m\u001b[0;34m=\u001b[0m\u001b[0;34m'utf-8'\u001b[0m\u001b[0;34m)\u001b[0m \u001b[0;32mas\u001b[0m \u001b[0mf\u001b[0m\u001b[0;34m:\u001b[0m\u001b[0;34m\u001b[0m\u001b[0;34m\u001b[0m\u001b[0m\n\u001b[0m\u001b[1;32m    881\u001b[0m             \u001b[0;32myield\u001b[0m \u001b[0mf\u001b[0m\u001b[0;34m\u001b[0m\u001b[0;34m\u001b[0m\u001b[0m\n",
            "\u001b[0;31mFileNotFoundError\u001b[0m: [Errno 2] No such file or directory: 'seaborn-darkgrid'",
            "\nThe above exception was the direct cause of the following exception:\n",
            "\u001b[0;31mOSError\u001b[0m                                   Traceback (most recent call last)",
            "\u001b[0;32m<ipython-input-1-2f4880aa5447>\u001b[0m in \u001b[0;36m<cell line: 0>\u001b[0;34m()\u001b[0m\n\u001b[1;32m      6\u001b[0m \u001b[0;34m\u001b[0m\u001b[0m\n\u001b[1;32m      7\u001b[0m \u001b[0;31m# Set seaborn style for better visualization\u001b[0m\u001b[0;34m\u001b[0m\u001b[0;34m\u001b[0m\u001b[0m\n\u001b[0;32m----> 8\u001b[0;31m \u001b[0mplt\u001b[0m\u001b[0;34m.\u001b[0m\u001b[0mstyle\u001b[0m\u001b[0;34m.\u001b[0m\u001b[0muse\u001b[0m\u001b[0;34m(\u001b[0m\u001b[0;34m'seaborn-darkgrid'\u001b[0m\u001b[0;34m)\u001b[0m\u001b[0;34m\u001b[0m\u001b[0;34m\u001b[0m\u001b[0m\n\u001b[0m",
            "\u001b[0;32m/usr/local/lib/python3.11/dist-packages/matplotlib/style/core.py\u001b[0m in \u001b[0;36muse\u001b[0;34m(style)\u001b[0m\n\u001b[1;32m    129\u001b[0m                 \u001b[0mstyle\u001b[0m \u001b[0;34m=\u001b[0m \u001b[0m_rc_params_in_file\u001b[0m\u001b[0;34m(\u001b[0m\u001b[0mstyle\u001b[0m\u001b[0;34m)\u001b[0m\u001b[0;34m\u001b[0m\u001b[0;34m\u001b[0m\u001b[0m\n\u001b[1;32m    130\u001b[0m             \u001b[0;32mexcept\u001b[0m \u001b[0mOSError\u001b[0m \u001b[0;32mas\u001b[0m \u001b[0merr\u001b[0m\u001b[0;34m:\u001b[0m\u001b[0;34m\u001b[0m\u001b[0;34m\u001b[0m\u001b[0m\n\u001b[0;32m--> 131\u001b[0;31m                 raise OSError(\n\u001b[0m\u001b[1;32m    132\u001b[0m                     \u001b[0;34mf\"{style!r} is not a valid package style, path of style \"\u001b[0m\u001b[0;34m\u001b[0m\u001b[0;34m\u001b[0m\u001b[0m\n\u001b[1;32m    133\u001b[0m                     \u001b[0;34mf\"file, URL of style file, or library style name (library \"\u001b[0m\u001b[0;34m\u001b[0m\u001b[0;34m\u001b[0m\u001b[0m\n",
            "\u001b[0;31mOSError\u001b[0m: 'seaborn-darkgrid' is not a valid package style, path of style file, URL of style file, or library style name (library styles are listed in `style.available`)"
          ]
        }
      ],
      "source": [
        "# Importing necessary libraries\n",
        "import pandas as pd\n",
        "import numpy as np\n",
        "import matplotlib.pyplot as plt\n",
        "import seaborn as sns\n",
        "\n",
        "# Set seaborn style for better visualization\n",
        "plt.style.use('seaborn-darkgrid')"
      ]
    },
    {
      "cell_type": "markdown",
      "source": [
        "**Insights**: Imported pandas, numpy, matplotlib, and seaborn for data handling and visualization. These libraries help in data manipulation, statistical computations, and visual analysis."
      ],
      "metadata": {
        "id": "T3bY46KXytho"
      },
      "id": "T3bY46KXytho"
    },
    {
      "cell_type": "markdown",
      "source": [
        "#1. Data Loading, Data Overview, Data Cleaning and Preparation"
      ],
      "metadata": {
        "id": "Q7DbyZsV8FyG"
      },
      "id": "Q7DbyZsV8FyG"
    },
    {
      "cell_type": "code",
      "execution_count": null,
      "id": "2691bbe9-5c40-49a7-9154-9fab5b9076ba",
      "metadata": {
        "id": "2691bbe9-5c40-49a7-9154-9fab5b9076ba"
      },
      "outputs": [],
      "source": [
        "    # Load the dataset\n",
        "    file_path = r\"C:\\Users\\hp\\Downloads\\API_ER.H2O.FWAG.ZS_DS2_en_csv_v2_14593\\API_ER.H2O.FWAG.ZS_DS2_en_csv_v2_14593.csv\"\n",
        "    metadata_country_path = r\"C:\\Users\\hp\\Downloads\\API_ER.H2O.FWAG.ZS_DS2_en_csv_v2_14593\\Metadata_Country_API_ER.H2O.FWAG.ZS_DS2_en_csv_v2_14593.csv\"\n",
        "\n",
        "    # Load main dataset and metadata\n",
        "    df = pd.read_csv(file_path, skiprows=4)\n",
        "    metadata = pd.read_csv(metadata_country_path)\n",
        "\n",
        "    # Display first few rows\n",
        "    df.head()\n"
      ]
    },
    {
      "cell_type": "markdown",
      "source": [
        "**Insights**: The dataset contains country-wise agricultural water withdrawal percentages over time (1960-2023). Metadata includes regions and income group classifications for better segmentation."
      ],
      "metadata": {
        "id": "4gNSUt6Pzvn9"
      },
      "id": "4gNSUt6Pzvn9"
    },
    {
      "cell_type": "code",
      "execution_count": null,
      "id": "42e3e9ee-39a5-4aab-b886-0a4838c1c657",
      "metadata": {
        "id": "42e3e9ee-39a5-4aab-b886-0a4838c1c657"
      },
      "outputs": [],
      "source": [
        "# Remove redundant columns\n",
        "df.drop(columns=['Indicator Name', 'Indicator Code'], inplace=True)\n",
        "\n",
        "# Convert dataset from wide to long format\n",
        "df = df.melt(id_vars=['Country Name', 'Country Code'], var_name='Year', value_name='Agricultural Water Withdrawal (%)')\n",
        "\n",
        "# Convert 'Year' column to integer\n",
        "df['Year'] = pd.to_numeric(df['Year'], errors='coerce')\n",
        "\n",
        "# Display updated dataset structure\n",
        "df.info()\n"
      ]
    },
    {
      "cell_type": "markdown",
      "source": [
        "**Insights**: Dropped redundant columns (Indicator Name, Indicator Code) as they contain static values. Converted the dataset from wide format to long format, making it easier for time-series analysis.\n",
        "\n"
      ],
      "metadata": {
        "id": "pH8-5lxB0Li2"
      },
      "id": "pH8-5lxB0Li2"
    },
    {
      "cell_type": "code",
      "execution_count": null,
      "id": "dabee2a6-363e-4728-a7d8-fb985c21413a",
      "metadata": {
        "id": "dabee2a6-363e-4728-a7d8-fb985c21413a"
      },
      "outputs": [],
      "source": [
        "# Merge metadata for region and income group classification\n",
        "metadata = metadata[['Country Code', 'Region', 'IncomeGroup']]\n",
        "df = df.merge(metadata, on='Country Code', how='left')\n",
        "\n",
        "# Compute latest available agricultural water withdrawal percentage per country\n",
        "latest_values = df.dropna().sort_values(['Country Name', 'Year']).groupby('Country Name').last().reset_index()\n",
        "latest_values = latest_values[['Country Name', 'Agricultural Water Withdrawal (%)', 'Year']]\n",
        "\n",
        "# Compute change in percentage from 1990 to 2020\n",
        "df_pivot = df.pivot(index='Country Name', columns='Year', values='Agricultural Water Withdrawal (%)')\n",
        "df_pivot['Change (1990-2020)'] = df_pivot[2020] - df_pivot[1990]\n",
        "df_pivot.reset_index(inplace=True)\n",
        "\n",
        "df = df.merge(df_pivot[['Country Name', 'Change (1990-2020)']], on='Country Name', how='left')\n",
        "\n",
        "# Display feature engineered dataset\n",
        "df.head()\n"
      ]
    },
    {
      "cell_type": "markdown",
      "source": [
        " **Insights**: Merged region & income group to analyze geographic and economic factors. Added latest available water withdrawal values per country. Computed historical changes (1990-2020) to identify increasing or decreasing trends."
      ],
      "metadata": {
        "id": "0Ie5aH3E0cIi"
      },
      "id": "0Ie5aH3E0cIi"
    },
    {
      "cell_type": "code",
      "execution_count": null,
      "id": "d8dda87b-e35d-40bd-91c8-fc5101340183",
      "metadata": {
        "id": "d8dda87b-e35d-40bd-91c8-fc5101340183"
      },
      "outputs": [],
      "source": [
        "# Fill missing values using forward fill (assuming data remains stable over short periods)\n",
        "df.sort_values(['Country Name', 'Year'], inplace=True)\n",
        "df['Agricultural Water Withdrawal (%)'] = df.groupby('Country Name')['Agricultural Water Withdrawal (%)'].ffill()\n",
        "\n",
        "# Check missing values\n",
        "df.isnull().sum()"
      ]
    },
    {
      "cell_type": "code",
      "execution_count": null,
      "id": "cbce698d-07dc-4ce3-bd8d-a4d150aa7f0a",
      "metadata": {
        "id": "cbce698d-07dc-4ce3-bd8d-a4d150aa7f0a"
      },
      "outputs": [],
      "source": [
        "# Generate statistical summary\n",
        "summary_stats = df.describe()\n",
        "\n",
        "# Display statistical summary\n",
        "summary_stats\n"
      ]
    },
    {
      "cell_type": "markdown",
      "source": [
        "**Insights**: The mean water withdrawal percentage is around 55%, with some countries relying heavily on agriculture (>90%). Data distribution is bimodal, with most countries either having low or high dependency."
      ],
      "metadata": {
        "id": "AyIw3nB8074t"
      },
      "id": "AyIw3nB8074t"
    },
    {
      "cell_type": "code",
      "execution_count": null,
      "id": "8178a8b8-4504-4dfb-8e95-811ee03a7d20",
      "metadata": {
        "id": "8178a8b8-4504-4dfb-8e95-811ee03a7d20"
      },
      "outputs": [],
      "source": [
        "# Normalize the withdrawal percentage (scale between 0 and 1)\n",
        "df['Normalized Withdrawal'] = (df['Agricultural Water Withdrawal (%)'] - df['Agricultural Water Withdrawal (%)'].min()) / \\\n",
        "                              (df['Agricultural Water Withdrawal (%)'].max() - df['Agricultural Water Withdrawal (%)'].min())\n",
        "\n",
        "# Display normalized dataset\n",
        "df.head(5)\n"
      ]
    },
    {
      "cell_type": "markdown",
      "source": [
        " **Insights**: Normalized values help compare countries on a standard scale (0 to 1). Useful for clustering and machine learning models.\n"
      ],
      "metadata": {
        "id": "9Q0LsBN41NGt"
      },
      "id": "9Q0LsBN41NGt"
    },
    {
      "cell_type": "code",
      "execution_count": null,
      "id": "dba25e18-0640-4727-bb4c-4525f0ae81cc",
      "metadata": {
        "id": "dba25e18-0640-4727-bb4c-4525f0ae81cc"
      },
      "outputs": [],
      "source": [
        "# Select a few countries to analyze trends\n",
        "selected_countries = ['India', 'China', 'United States', 'Brazil', 'Australia']\n",
        "\n",
        "# Filter data for selected countries\n",
        "trend_data = df[df['Country Name'].isin(selected_countries)]\n",
        "\n",
        "# Display trend data\n",
        "trend_data.head()\n"
      ]
    },
    {
      "cell_type": "code",
      "execution_count": null,
      "id": "1183e0f0-fc30-4940-9014-6f60194304f0",
      "metadata": {
        "id": "1183e0f0-fc30-4940-9014-6f60194304f0"
      },
      "outputs": [],
      "source": [
        "# Analyze relationship between income groups and water withdrawal\n",
        "income_stats = df.groupby('IncomeGroup')['Agricultural Water Withdrawal (%)'].describe()\n",
        "\n",
        "# Display summary\n",
        "income_stats\n"
      ]
    },
    {
      "cell_type": "markdown",
      "source": [
        "**Insights**: Low-income countries use ~90% of their water for agriculture, while high-income countries use only ~30%. This confirms that economic development reduces agricultural water dependency."
      ],
      "metadata": {
        "id": "XirzMyu91f9M"
      },
      "id": "XirzMyu91f9M"
    },
    {
      "cell_type": "code",
      "execution_count": null,
      "id": "ec22d1a7-5c00-400f-915d-7cca81a2d2bc",
      "metadata": {
        "id": "ec22d1a7-5c00-400f-915d-7cca81a2d2bc"
      },
      "outputs": [],
      "source": [
        "import pandas as pd\n",
        "top_10_countries = df.nlargest(10, 'Agricultural Water Withdrawal (%)')\n",
        "bottom_10_countries = df.nsmallest(10, 'Agricultural Water Withdrawal (%)')\n",
        "\n",
        "# Display the top 10 countries\n",
        "print(\"Top 10 Countries with Highest Water Withdrawals\")\n",
        "print(top_10_countries)\n",
        "\n",
        "# Display the bottom 10 countries\n",
        "print(\"Bottom 10 Countries with Lowest Water Withdrawals\")\n",
        "print(bottom_10_countries)"
      ]
    },
    {
      "cell_type": "code",
      "execution_count": null,
      "id": "59d568a5-347f-4d71-9884-d96acd62abc3",
      "metadata": {
        "id": "59d568a5-347f-4d71-9884-d96acd62abc3"
      },
      "outputs": [],
      "source": [
        "# Distribution of Agricultural Water Withdrawals (Histogram)\n",
        "plt.figure(figsize=(10, 5))\n",
        "sns.histplot(df['Agricultural Water Withdrawal (%)'].dropna(), bins=30, kde=True)\n",
        "plt.title(\"Distribution of Agricultural Water Withdrawal (%)\")\n",
        "plt.xlabel(\"Agricultural Water Withdrawal (%)\")\n",
        "plt.ylabel(\"Frequency\")\n",
        "plt.show()\n"
      ]
    },
    {
      "cell_type": "markdown",
      "source": [
        "**Insights**: Bimodal distribution: Many countries either have very high (>80%) or very low (<20%) agricultural water withdrawals. Indicates that economic structure and climate affect water use patterns."
      ],
      "metadata": {
        "id": "XyKhfdPi2RbY"
      },
      "id": "XyKhfdPi2RbY"
    },
    {
      "cell_type": "code",
      "execution_count": null,
      "id": "41fc3b76-f3f7-4a33-8713-bdfdbe02c86a",
      "metadata": {
        "scrolled": true,
        "id": "41fc3b76-f3f7-4a33-8713-bdfdbe02c86a"
      },
      "outputs": [],
      "source": [
        "# Boxplot of Agricultural Water Withdrawal by Region\n",
        "plt.figure(figsize=(12, 6))\n",
        "sns.boxplot(x='Region', y='Agricultural Water Withdrawal (%)', data=df)\n",
        "plt.xticks(rotation=45)\n",
        "plt.title(\"Agricultural Water Withdrawal (%) by Region\")\n",
        "plt.show()\n"
      ]
    },
    {
      "cell_type": "markdown",
      "source": [
        "**Insights**: South Asia & Sub-Saharan Africa have the highest agricultural water withdrawals. Europe & North America have the lowest percentages, indicating diversified economies."
      ],
      "metadata": {
        "id": "ZGFECdIe3mNR"
      },
      "id": "ZGFECdIe3mNR"
    },
    {
      "cell_type": "code",
      "execution_count": null,
      "id": "7701a721-dff4-4ace-b98a-f81717929c28",
      "metadata": {
        "id": "7701a721-dff4-4ace-b98a-f81717929c28"
      },
      "outputs": [],
      "source": [
        "# Trends Over Time for Selected Countries\n",
        "selected_countries = ['India', 'China', 'United States', 'Brazil', 'Australia']\n",
        "plt.figure(figsize=(12, 6))\n",
        "for country in selected_countries:\n",
        "    country_data = df[df['Country Name'] == country]\n",
        "    plt.plot(country_data['Year'], country_data['Agricultural Water Withdrawal (%)'], marker='o', label=country)\n",
        "\n",
        "plt.title('Agricultural Water Withdrawal Trends Over Time')\n",
        "plt.xlabel('Year')\n",
        "plt.ylabel('Agricultural Water Withdrawal (%)')\n",
        "plt.legend()\n",
        "plt.show()\n"
      ]
    },
    {
      "cell_type": "markdown",
      "source": [
        "**Insights**: India remains consistently high (~90%), indicating continued reliance on irrigation. China has significantly reduced its agricultural water share (~85% to ~60% since 1980). Developed nations (e.g., USA, Australia) show a gradual decline, reflecting economic shifts."
      ],
      "metadata": {
        "id": "dg28Js5V4sdr"
      },
      "id": "dg28Js5V4sdr"
    },
    {
      "cell_type": "code",
      "execution_count": null,
      "id": "83d493db-7c40-463f-94a9-f2d0c3e3c1b8",
      "metadata": {
        "id": "83d493db-7c40-463f-94a9-f2d0c3e3c1b8"
      },
      "outputs": [],
      "source": [
        "# Correlation Matrix (Across Years)\n",
        "df_corr = df.pivot(index='Country Name', columns='Year', values='Agricultural Water Withdrawal (%)').corr()\n",
        "plt.figure(figsize=(12, 8))\n",
        "sns.heatmap(df_corr, cmap=\"coolwarm\", annot=False)\n",
        "plt.title('Correlation Matrix of Agricultural Water Withdrawals Across Years')\n",
        "plt.show()"
      ]
    },
    {
      "cell_type": "markdown",
      "source": [
        "**Insights**: High correlation (0.9+) across decades: Countries that had high water use in the 1990s still tend to have high values today. This indicates that agricultural water use is persistent over time."
      ],
      "metadata": {
        "id": "s0Tu9eKN5VYf"
      },
      "id": "s0Tu9eKN5VYf"
    },
    {
      "cell_type": "code",
      "execution_count": null,
      "id": "b386cc38-8b0b-46e0-b3b3-f8309f147e45",
      "metadata": {
        "id": "b386cc38-8b0b-46e0-b3b3-f8309f147e45"
      },
      "outputs": [],
      "source": [
        "# Boxplot of Agricultural Water Withdrawal by Income Group\n",
        "plt.figure(figsize=(10, 5))\n",
        "sns.boxplot(x='IncomeGroup', y='Agricultural Water Withdrawal (%)', data=df)\n",
        "plt.xticks(rotation=45)\n",
        "plt.title(\"Agricultural Water Withdrawal (%) by Income Group\")\n",
        "plt.show()\n",
        "\n"
      ]
    },
    {
      "cell_type": "markdown",
      "source": [
        "**Insights**: Low-income countries use ~90% of their water for agriculture, while high-income countries use only ~30%. Economic growth correlates with a shift away from agriculture-dominated water usage.\n"
      ],
      "metadata": {
        "id": "QM3F881W55u1"
      },
      "id": "QM3F881W55u1"
    },
    {
      "cell_type": "code",
      "execution_count": null,
      "id": "8616c239-531b-49a7-a554-aef0c054f6ce",
      "metadata": {
        "id": "8616c239-531b-49a7-a554-aef0c054f6ce"
      },
      "outputs": [],
      "source": [
        "# Regional Trends Over Time\n",
        "regional_avg = df.groupby(['Region', 'Year'])['Agricultural Water Withdrawal (%)'].mean().reset_index()\n",
        "\n",
        "plt.figure(figsize=(12, 6))\n",
        "sns.lineplot(x='Year', y='Agricultural Water Withdrawal (%)', hue='Region', data=regional_avg, marker='o')\n",
        "plt.title(\"Regional Trends in Agricultural Water Withdrawal Over Time\")\n",
        "plt.xlabel(\"Year\")\n",
        "plt.ylabel(\"Agricultural Water Withdrawal (%)\")\n",
        "plt.legend(title=\"Region\", bbox_to_anchor=(1, 1))\n",
        "plt.show()\n"
      ]
    },
    {
      "cell_type": "markdown",
      "source": [
        "**Insights**: South Asia & Middle East remain high (~90%), indicating strong agricultural dependence. Europe & North America show a steady decline, suggesting a transition to industry & urban water use.\n"
      ],
      "metadata": {
        "id": "kn-ppRa16OJg"
      },
      "id": "kn-ppRa16OJg"
    },
    {
      "cell_type": "code",
      "execution_count": null,
      "id": "55c0bb7a-534a-4cb2-ac75-1386969b278d",
      "metadata": {
        "id": "55c0bb7a-534a-4cb2-ac75-1386969b278d"
      },
      "outputs": [],
      "source": [
        "# Line Plot - Time Series Trends for Top Countries\n",
        "# Select top 5 countries with highest agricultural water withdrawal\n",
        "top_countries = df.groupby(\"Country Name\")[\"Agricultural Water Withdrawal (%)\"].max().nlargest(5).index.tolist()\n",
        "\n",
        "plt.figure(figsize=(12, 6))\n",
        "for country in top_countries:\n",
        "    country_data = df[df['Country Name'] == country]\n",
        "    plt.plot(country_data['Year'], country_data['Agricultural Water Withdrawal (%)'], marker='o', label=country)\n",
        "\n",
        "plt.title(\"Time Series Trends: Top 5 Countries with Highest Water Withdrawals\")\n",
        "plt.xlabel(\"Year\")\n",
        "plt.ylabel(\"Agricultural Water Withdrawal (%)\")\n",
        "plt.legend()\n",
        "plt.show()\n"
      ]
    },
    {
      "cell_type": "markdown",
      "source": [
        "**Insights**: This plot helps in understanding how water withdrawals have evolved over decades in the top agricultural water-consuming countries. Countries with high withdrawals may show stable, increasing, or declining trends depending on their economic and environmental policies."
      ],
      "metadata": {
        "id": "U5HBINpX6ouQ"
      },
      "id": "U5HBINpX6ouQ"
    },
    {
      "cell_type": "code",
      "execution_count": null,
      "id": "918d1e07-627e-4300-b5c5-1b337806fecf",
      "metadata": {
        "id": "918d1e07-627e-4300-b5c5-1b337806fecf"
      },
      "outputs": [],
      "source": [
        "# Heatmap - Yearly Trends in Agricultural Water Use\n",
        "# Pivot the data for heatmap visualization\n",
        "heatmap_data = df.pivot(index=\"Country Name\", columns=\"Year\", values=\"Agricultural Water Withdrawal (%)\")\n",
        "\n",
        "plt.figure(figsize=(15, 8))\n",
        "sns.heatmap(heatmap_data, cmap=\"coolwarm\", linewidths=0.5)\n",
        "plt.title(\"Heatmap of Agricultural Water Withdrawals Over Time\")\n",
        "plt.xlabel(\"Year\")\n",
        "plt.ylabel(\"Country\")\n",
        "plt.show()\n"
      ]
    },
    {
      "cell_type": "markdown",
      "source": [
        "**Insigts**: This heatmap visualizes temporal variations in agricultural water use for different countries. Darker shades indicate higher water withdrawal, helping to identify periods of extreme dependency"
      ],
      "metadata": {
        "id": "sh6ajplN63PW"
      },
      "id": "sh6ajplN63PW"
    },
    {
      "cell_type": "code",
      "execution_count": null,
      "id": "c3f5b0a7-c31f-463a-91d8-93128810ade6",
      "metadata": {
        "id": "c3f5b0a7-c31f-463a-91d8-93128810ade6"
      },
      "outputs": [],
      "source": [
        "import pandas as pd\n",
        "from sklearn.linear_model import LinearRegression, Ridge, Lasso\n",
        "from sklearn.tree import DecisionTreeRegressor\n",
        "from sklearn.ensemble import RandomForestRegressor, GradientBoostingRegressor\n",
        "from sklearn.neighbors import KNeighborsRegressor\n",
        "from sklearn.neural_network import MLPRegressor\n",
        "from sklearn.metrics import mean_absolute_error, mean_squared_error, r2_score\n",
        "\n",
        "# 1. Data Loading and Merging\n",
        "indicator_file = 'API_ER.H2O.FWAG.ZS_DS2_en_csv_v2_14593.csv'\n",
        "metadata_file  = 'Metadata_Country_API_ER.H2O.FWAG.ZS_DS2_en_csv_v2_14593.csv'\n",
        "\n",
        "# Read the main indicator data\n",
        "data = pd.read_csv(indicator_file, skiprows=4)\n",
        "\n",
        "# Drop any empty columns\n",
        "data = data.loc[:, ~data.columns.str.contains('^Unnamed')]\n",
        "\n",
        "# Read country metadata\n",
        "metadata = pd.read_csv(metadata_file)\n",
        "\n",
        "# Drop unnecessary columns from metadata (keeping Country Code, Region, IncomeGroup)\n",
        "metadata = metadata.loc[:, ['Country Code', 'Region', 'IncomeGroup']]\n",
        "\n",
        "# Handle any missing IncomeGroup\n",
        "metadata['IncomeGroup'] = metadata['IncomeGroup'].fillna('Unknown')\n",
        "\n",
        "# Merge indicator data with metadata on Country Code\n",
        "merged = pd.merge(data, metadata, on='Country Code', how='left')"
      ]
    },
    {
      "cell_type": "markdown",
      "source": [
        "# 2. Data Cleaning and Reshaping\n"
      ],
      "metadata": {
        "id": "MyU9-0jX9OQf"
      },
      "id": "MyU9-0jX9OQf"
    },
    {
      "cell_type": "code",
      "execution_count": null,
      "id": "ba97ec19-776c-4577-b584-a9fd7dda0619",
      "metadata": {
        "id": "ba97ec19-776c-4577-b584-a9fd7dda0619"
      },
      "outputs": [],
      "source": [
        "# Filter out aggregate or regional entries by dropping rows with missing Region (non-country entries)\n",
        "merged = merged[~merged['Region'].isna()].copy()\n",
        "\n",
        "# Reshape data from wide to long format: one row per country-year\n",
        "year_columns = [col for col in merged.columns if col.isdigit()]\n",
        "long_df = merged.melt(\n",
        "    id_vars=['Country Name', 'Country Code', 'Region', 'IncomeGroup'],\n",
        "    value_vars=year_columns,\n",
        "    var_name='Year',\n",
        "    value_name='WithdrawalPerc'\n",
        ")\n",
        "\n",
        "# Convert Year to numeric and drop rows with missing target values\n",
        "long_df['Year'] = long_df['Year'].astype(int)\n",
        "long_df = long_df.dropna(subset=['WithdrawalPerc'])"
      ]
    },
    {
      "cell_type": "markdown",
      "source": [
        "# 3. Feature Encoding\n"
      ],
      "metadata": {
        "id": "ifyOxfdw9goX"
      },
      "id": "ifyOxfdw9goX"
    },
    {
      "cell_type": "code",
      "execution_count": null,
      "id": "72674e49-7eca-40fa-b4f7-f40b50ceb343",
      "metadata": {
        "id": "72674e49-7eca-40fa-b4f7-f40b50ceb343"
      },
      "outputs": [],
      "source": [
        "# One-hot encode Region and IncomeGroup using pandas get_dummies\n",
        "features = ['Year', 'Region', 'IncomeGroup']\n",
        "X = long_df[features]\n",
        "y = long_df['WithdrawalPerc']\n",
        "X_encoded = pd.get_dummies(X, columns=['Region', 'IncomeGroup'], drop_first=False)\n"
      ]
    },
    {
      "cell_type": "markdown",
      "source": [
        "# 4. Train-Test Split (time-based)\n"
      ],
      "metadata": {
        "id": "qdJ-DR3w9stB"
      },
      "id": "qdJ-DR3w9stB"
    },
    {
      "cell_type": "code",
      "execution_count": null,
      "id": "ac82811c-bd5a-4b80-b16d-1a3db0e7c807",
      "metadata": {
        "id": "ac82811c-bd5a-4b80-b16d-1a3db0e7c807"
      },
      "outputs": [],
      "source": [
        "train_data = X_encoded[X['Year'] <= 2015].copy()\n",
        "test_data  = X_encoded[X['Year'] > 2015].copy()\n",
        "y_train = y[X['Year'] <= 2015]\n",
        "y_test  = y[X['Year'] > 2015]\n",
        "\n",
        "# Ensure test data has same columns as train\n",
        "missing_cols = set(train_data.columns) - set(test_data.columns)\n",
        "for col in missing_cols:\n",
        "    test_data[col] = 0\n",
        "test_data = test_data[train_data.columns]  # align column order"
      ]
    },
    {
      "cell_type": "markdown",
      "source": [
        "# 5. Model Training\n"
      ],
      "metadata": {
        "id": "bYp-51Dr95uv"
      },
      "id": "bYp-51Dr95uv"
    },
    {
      "cell_type": "code",
      "execution_count": null,
      "id": "075ad978-47af-4b2d-b1df-cdf108c14bf0",
      "metadata": {
        "id": "075ad978-47af-4b2d-b1df-cdf108c14bf0"
      },
      "outputs": [],
      "source": [
        "models = [\n",
        "    (\"Linear Regression\", LinearRegression()),\n",
        "    (\"Ridge Regression\", Ridge(random_state=0)),\n",
        "    (\"Lasso Regression\", Lasso(random_state=0)),\n",
        "    (\"Decision Tree\", DecisionTreeRegressor(random_state=0)),\n",
        "    (\"Random Forest\", RandomForestRegressor(random_state=0)),\n",
        "    (\"Gradient Boosting\", GradientBoostingRegressor(random_state=0)),\n",
        "    (\"KNN Regressor\", KNeighborsRegressor()),\n",
        "    (\"MLP Regressor\", MLPRegressor(max_iter=1000, random_state=0))\n",
        "]\n",
        "\n",
        "results = []  # to store performance metrics for each model\n",
        "for name, model in models:\n",
        "    # Train the model on training data\n",
        "    model.fit(train_data, y_train)\n",
        "    # Predict on test data\n",
        "    y_pred = model.predict(test_data)\n",
        "    # Calculate evaluation metrics\n",
        "    mae = mean_absolute_error(y_test, y_pred)\n",
        "    rmse = mean_squared_error(y_test, y_pred, squared=False)\n",
        "    r2 = r2_score(y_test, y_pred)\n",
        "    results.append((name, mae, rmse, r2))\n",
        "#  Sort results by R² (descending) for presentation\n",
        "results.sort(key=lambda x: x[3], reverse=True)"
      ]
    },
    {
      "cell_type": "markdown",
      "source": [
        "# 6. Model Performance Table and Best Model"
      ],
      "metadata": {
        "id": "FoHOgOu4-knx"
      },
      "id": "FoHOgOu4-knx"
    },
    {
      "cell_type": "code",
      "execution_count": null,
      "id": "953ccbfa-8c3d-4c6d-94e4-2c3557fc1f1e",
      "metadata": {
        "id": "953ccbfa-8c3d-4c6d-94e4-2c3557fc1f1e"
      },
      "outputs": [],
      "source": [
        "# Print model performance table and best model\n",
        "print(\"Model Performance on Test Set:\")\n",
        "print(f\"{'Model':20s}  MAE      RMSE     R²\")\n",
        "print(\"-\" * 45)\n",
        "for name, mae, rmse, r2 in results:\n",
        "    print(f\"{name:20s}  {mae:.2f}    {rmse:.2f}    {r2:.3f}\")\n",
        "\n",
        "# Identify best model (highest R² score)\n",
        "best_model_name, best_model_mae, best_model_rmse, best_model_r2 = results[0]\n",
        "print(f\"\\nBest Model: {best_model_name} (R² = {best_model_r2:.3f})\")"
      ]
    },
    {
      "cell_type": "code",
      "execution_count": null,
      "id": "77315541-3f66-4b28-828c-fb49a0bcd105",
      "metadata": {
        "id": "77315541-3f66-4b28-828c-fb49a0bcd105"
      },
      "outputs": [],
      "source": [
        "train_data = X_encoded[X['Year'] <= 2015].copy()\n",
        "test_data  = X_encoded[X['Year'] > 2015].copy()\n",
        "y_train = y[X['Year'] <= 2015]\n",
        "y_test  = y[X['Year'] > 2015]\n",
        "\n",
        "# Ensure column alignment\n",
        "missing_cols = set(train_data.columns) - set(test_data.columns)\n",
        "for col in missing_cols:\n",
        "    test_data[col] = 0\n",
        "test_data = test_data[train_data.columns]\n"
      ]
    },
    {
      "cell_type": "markdown",
      "source": [
        "# 7. Model Tuning and Evaluation with Decision Tree Regressor"
      ],
      "metadata": {
        "id": "WnPK4uWGAowo"
      },
      "id": "WnPK4uWGAowo"
    },
    {
      "cell_type": "code",
      "execution_count": null,
      "id": "abade4f4-a014-4244-923e-79aa8e7194ef",
      "metadata": {
        "id": "abade4f4-a014-4244-923e-79aa8e7194ef"
      },
      "outputs": [],
      "source": [
        "from sklearn.tree import DecisionTreeRegressor\n",
        "from sklearn.model_selection import GridSearchCV\n",
        "\n",
        "# Model and grid\n",
        "model = DecisionTreeRegressor(random_state=42)\n",
        "param_grid = {\n",
        "    \"max_depth\": [5, 10, 20, None],\n",
        "    \"min_samples_split\": [2, 5],\n",
        "    \"min_samples_leaf\": [1, 2]\n",
        "}\n",
        "\n",
        "# Grid Search using time-based training data\n",
        "grid_search = GridSearchCV(model, param_grid, cv=3, scoring='neg_mean_squared_error')\n",
        "grid_search.fit(train_data, y_train)\n",
        "\n",
        "# Evaluate\n",
        "best_model = grid_search.best_estimator_\n",
        "print(\"Best Parameters:\", grid_search.best_params_)\n",
        "\n",
        "# Predict and evaluate on test set\n",
        "from sklearn.metrics import mean_squared_error, mean_absolute_error, r2_score\n",
        "\n",
        "y_pred = best_model.predict(test_data)\n",
        "rmse = mean_squared_error(y_test, y_pred, squared=False)\n",
        "mae = mean_absolute_error(y_test, y_pred)\n",
        "r2 = r2_score(y_test, y_pred)\n",
        "\n",
        "print(f\"Test Set Performance:\\n MAE: {mae:.2f}\\n RMSE: {rmse:.2f}\\n R²: {r2:.3f}\")\n"
      ]
    },
    {
      "cell_type": "code",
      "execution_count": null,
      "id": "88636c07-a443-4c66-a585-a5f668f2ffec",
      "metadata": {
        "id": "88636c07-a443-4c66-a585-a5f668f2ffec"
      },
      "outputs": [],
      "source": [
        "from sklearn.ensemble import RandomForestRegressor\n",
        "\n",
        "# Define model and parameter grid\n",
        "rf_model = RandomForestRegressor(random_state=42)\n",
        "rf_param_grid = {\n",
        "    \"n_estimators\": [50, 100, 200],\n",
        "    \"max_depth\": [10, 20, None],\n",
        "    \"min_samples_split\": [2, 5],\n",
        "    \"min_samples_leaf\": [1, 2]\n",
        "}\n",
        "\n",
        "# Grid Search\n",
        "rf_grid_search = GridSearchCV(rf_model, rf_param_grid, cv=3, scoring='neg_mean_squared_error', n_jobs=-1)\n",
        "rf_grid_search.fit(train_data, y_train)\n",
        "\n",
        "# Best model\n",
        "best_rf = rf_grid_search.best_estimator_\n",
        "print(\"Random Forest Best Parameters:\", rf_grid_search.best_params_)\n",
        "\n",
        "# Test set evaluation\n",
        "rf_pred = best_rf.predict(test_data)\n",
        "rf_rmse = mean_squared_error(y_test, rf_pred, squared=False)\n",
        "rf_mae = mean_absolute_error(y_test, rf_pred)\n",
        "rf_r2 = r2_score(y_test, rf_pred)\n",
        "\n",
        "print(f\"Random Forest Test Set Performance:\\n MAE: {rf_mae:.2f}\\n RMSE: {rf_rmse:.2f}\\n R²: {rf_r2:.3f}\")\n"
      ]
    },
    {
      "cell_type": "code",
      "execution_count": null,
      "id": "a1db3b28-1f8b-4447-94c7-80750b4eacf8",
      "metadata": {
        "id": "a1db3b28-1f8b-4447-94c7-80750b4eacf8"
      },
      "outputs": [],
      "source": [
        "from sklearn.ensemble import RandomForestRegressor\n",
        "\n",
        "# Define model and parameter grid\n",
        "rf_model = RandomForestRegressor(random_state=42)\n",
        "rf_param_grid = {\n",
        "    \"n_estimators\": [50, 100, 200],\n",
        "    \"max_depth\": [10, 20, None],\n",
        "    \"min_samples_split\": [2, 5],\n",
        "    \"min_samples_leaf\": [1, 2]\n",
        "}\n",
        "\n",
        "# Grid Search\n",
        "rf_grid_search = GridSearchCV(rf_model, rf_param_grid, cv=3, scoring='neg_mean_squared_error', n_jobs=-1)\n",
        "rf_grid_search.fit(train_data, y_train)\n",
        "\n",
        "# Best model\n",
        "best_rf = rf_grid_search.best_estimator_\n",
        "print(\"Random Forest Best Parameters:\", rf_grid_search.best_params_)\n",
        "\n",
        "# Test set evaluation\n",
        "rf_pred = best_rf.predict(test_data)\n",
        "rf_rmse = mean_squared_error(y_test, rf_pred, squared=False)\n",
        "rf_mae = mean_absolute_error(y_test, rf_pred)\n",
        "rf_r2 = r2_score(y_test, rf_pred)\n",
        "\n",
        "print(f\"Random Forest Test Set Performance:\\n MAE: {rf_mae:.2f}\\n RMSE: {rf_rmse:.2f}\\n R²: {rf_r2:.3f}\")\n"
      ]
    },
    {
      "cell_type": "code",
      "execution_count": null,
      "id": "f82fd27d-1d74-45e3-b8e4-86048268d790",
      "metadata": {
        "id": "f82fd27d-1d74-45e3-b8e4-86048268d790"
      },
      "outputs": [],
      "source": [
        "print(df.columns.tolist())\n"
      ]
    },
    {
      "cell_type": "code",
      "execution_count": null,
      "id": "d1398405-427d-485f-8de3-fec8316ae6b0",
      "metadata": {
        "id": "d1398405-427d-485f-8de3-fec8316ae6b0"
      },
      "outputs": [],
      "source": []
    }
  ],
  "metadata": {
    "kernelspec": {
      "display_name": "Python [conda env:base] *",
      "language": "python",
      "name": "conda-base-py"
    },
    "language_info": {
      "codemirror_mode": {
        "name": "ipython",
        "version": 3
      },
      "file_extension": ".py",
      "mimetype": "text/x-python",
      "name": "python",
      "nbconvert_exporter": "python",
      "pygments_lexer": "ipython3",
      "version": "3.11.5"
    },
    "colab": {
      "provenance": [],
      "include_colab_link": true
    }
  },
  "nbformat": 4,
  "nbformat_minor": 5
}